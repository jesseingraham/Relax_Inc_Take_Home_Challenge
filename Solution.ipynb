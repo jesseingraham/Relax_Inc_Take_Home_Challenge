{
 "cells": [
  {
   "cell_type": "markdown",
   "id": "26dc861b",
   "metadata": {},
   "source": [
    "# Problem Statement:\n",
    "\n",
    "Defining an \"adopted user\" as a user who has logged  into  the  product  on  three  separate\n",
    "days in at least one seven-day period, **identify  which  factors  predict  future  user\n",
    "adoption**.\n",
    "\n",
    "We  suggest  spending  1-2  hours  on  this,  but  you're  welcome  to  spend  more  or  less.\n",
    "Please  send  us  a  brief  writeup  of  your  findings  (the  more  concise,  the  better  --  no  more\n",
    "than  one  page),  along  with  any  summary  tables,  graphs,  code,  or  queries  that  can  help\n",
    "us  understand  your  approach.  Please  note  any  factors  you  considered  or  investigation\n",
    "you  did,  even  if  they  did  not  pan  out.  Feel  free  to  identify  any  further  research  or  data\n",
    "you  think  would  be  valuable.\n",
    "\n",
    "The  data  is  available  as  two  attached  CSV  files:\n",
    "1. takehome_user_engagement.csv\n",
    "2. takehome_users.csv\n",
    "\n",
    "The  data  has  the  following  two  tables:\n",
    "\n",
    "1. A  user  table  ( \"takehome_users\" )  with  data  on  12,000  users  who  signed  up  for  the product  in  the  last  two  years.   This  table  includes:\n",
    "    1. name:  the  user's  name\n",
    "    2. object_id:   the  user's  id\n",
    "    3. email:  email  address\n",
    "    4. creation_source:   how  their  account  was  created.  This  takes  on  one of  5  values:\n",
    "        1. PERSONAL_PROJECTS:  invited  to  join  another  user's personal  workspace\n",
    "        2. GUEST_INVITE:  invited  to  an  organization  as  a  guest (limited  permissions)\n",
    "        3. ORG_INVITE:  invited  to  an  organization  (as  a  full  member)\n",
    "        4. SIGNUP:  signed  up  via  the  website\n",
    "        5. SIGNUP_GOOGLE_AUTH:  signed  up  using  Google Authentication  (using  a  Google  email  account  for  their  login id)\n",
    "    2. creation_time:  when  they  created  their  account\n",
    "    3. last_session_creation_time:   unix  timestamp  of  last  login\n",
    "    4. opted_in_to_mailing_list:  whether  they  have  opted  into  receiving marketing  emails\n",
    "    5. enabled_for_marketing_drip:  whether  they  are  on  the  regular marketing  email  drip\n",
    "    6. org_id:   the  organization  (group  of  users)  they  belong  to\n",
    "    7. invited_by_user_id:   which  user  invited  them  to  join  (if  applicable).\n",
    "\n",
    "2. A  usage  summary  table  ( \"takehome_user_engagement\" )  that  has  a  row  for  each  day that  a  user  logged  into  the  product."
   ]
  },
  {
   "cell_type": "markdown",
   "id": "1cc92bd1",
   "metadata": {},
   "source": [
    "# Strategy:\n",
    "\n",
    "1. Load data\n",
    "2. Determine which users are \"adopted users\"\n",
    "3. Determine feature importances through Random Forests"
   ]
  },
  {
   "cell_type": "markdown",
   "id": "d1497971",
   "metadata": {},
   "source": [
    "### Imports"
   ]
  },
  {
   "cell_type": "code",
   "execution_count": 1,
   "id": "900e623c",
   "metadata": {},
   "outputs": [],
   "source": [
    "import numpy as np\n",
    "import pandas as pd\n",
    "import datetime as dt\n",
    "import time"
   ]
  },
  {
   "cell_type": "markdown",
   "id": "9eb71994",
   "metadata": {},
   "source": [
    "### Load Data"
   ]
  },
  {
   "cell_type": "code",
   "execution_count": 2,
   "id": "82cec8cc",
   "metadata": {},
   "outputs": [],
   "source": [
    "user_eng_raw = pd.read_csv('takehome_user_engagement.csv')\n",
    "users_raw = pd.read_csv('takehome_users.csv')"
   ]
  },
  {
   "cell_type": "code",
   "execution_count": 3,
   "id": "d393cb4d",
   "metadata": {},
   "outputs": [
    {
     "data": {
      "text/html": [
       "<div>\n",
       "<style scoped>\n",
       "    .dataframe tbody tr th:only-of-type {\n",
       "        vertical-align: middle;\n",
       "    }\n",
       "\n",
       "    .dataframe tbody tr th {\n",
       "        vertical-align: top;\n",
       "    }\n",
       "\n",
       "    .dataframe thead th {\n",
       "        text-align: right;\n",
       "    }\n",
       "</style>\n",
       "<table border=\"1\" class=\"dataframe\">\n",
       "  <thead>\n",
       "    <tr style=\"text-align: right;\">\n",
       "      <th></th>\n",
       "      <th>time_stamp</th>\n",
       "      <th>user_id</th>\n",
       "      <th>visited</th>\n",
       "    </tr>\n",
       "  </thead>\n",
       "  <tbody>\n",
       "    <tr>\n",
       "      <th>0</th>\n",
       "      <td>2014-04-22 03:53:30</td>\n",
       "      <td>1</td>\n",
       "      <td>1</td>\n",
       "    </tr>\n",
       "    <tr>\n",
       "      <th>1</th>\n",
       "      <td>2013-11-15 03:45:04</td>\n",
       "      <td>2</td>\n",
       "      <td>1</td>\n",
       "    </tr>\n",
       "    <tr>\n",
       "      <th>2</th>\n",
       "      <td>2013-11-29 03:45:04</td>\n",
       "      <td>2</td>\n",
       "      <td>1</td>\n",
       "    </tr>\n",
       "    <tr>\n",
       "      <th>3</th>\n",
       "      <td>2013-12-09 03:45:04</td>\n",
       "      <td>2</td>\n",
       "      <td>1</td>\n",
       "    </tr>\n",
       "    <tr>\n",
       "      <th>4</th>\n",
       "      <td>2013-12-25 03:45:04</td>\n",
       "      <td>2</td>\n",
       "      <td>1</td>\n",
       "    </tr>\n",
       "  </tbody>\n",
       "</table>\n",
       "</div>"
      ],
      "text/plain": [
       "            time_stamp  user_id  visited\n",
       "0  2014-04-22 03:53:30        1        1\n",
       "1  2013-11-15 03:45:04        2        1\n",
       "2  2013-11-29 03:45:04        2        1\n",
       "3  2013-12-09 03:45:04        2        1\n",
       "4  2013-12-25 03:45:04        2        1"
      ]
     },
     "execution_count": 3,
     "metadata": {},
     "output_type": "execute_result"
    }
   ],
   "source": [
    "user_eng = user_eng_raw.copy()\n",
    "user_eng.head()"
   ]
  },
  {
   "cell_type": "code",
   "execution_count": 4,
   "id": "6da5145e",
   "metadata": {},
   "outputs": [
    {
     "data": {
      "text/html": [
       "<div>\n",
       "<style scoped>\n",
       "    .dataframe tbody tr th:only-of-type {\n",
       "        vertical-align: middle;\n",
       "    }\n",
       "\n",
       "    .dataframe tbody tr th {\n",
       "        vertical-align: top;\n",
       "    }\n",
       "\n",
       "    .dataframe thead th {\n",
       "        text-align: right;\n",
       "    }\n",
       "</style>\n",
       "<table border=\"1\" class=\"dataframe\">\n",
       "  <thead>\n",
       "    <tr style=\"text-align: right;\">\n",
       "      <th></th>\n",
       "      <th>object_id</th>\n",
       "      <th>creation_time</th>\n",
       "      <th>name</th>\n",
       "      <th>email</th>\n",
       "      <th>creation_source</th>\n",
       "      <th>last_session_creation_time</th>\n",
       "      <th>opted_in_to_mailing_list</th>\n",
       "      <th>enabled_for_marketing_drip</th>\n",
       "      <th>org_id</th>\n",
       "      <th>invited_by_user_id</th>\n",
       "    </tr>\n",
       "  </thead>\n",
       "  <tbody>\n",
       "    <tr>\n",
       "      <th>0</th>\n",
       "      <td>1</td>\n",
       "      <td>2014-04-22 03:53:30</td>\n",
       "      <td>Clausen August</td>\n",
       "      <td>AugustCClausen@yahoo.com</td>\n",
       "      <td>GUEST_INVITE</td>\n",
       "      <td>1.398139e+09</td>\n",
       "      <td>1</td>\n",
       "      <td>0</td>\n",
       "      <td>11</td>\n",
       "      <td>10803.0</td>\n",
       "    </tr>\n",
       "    <tr>\n",
       "      <th>1</th>\n",
       "      <td>2</td>\n",
       "      <td>2013-11-15 03:45:04</td>\n",
       "      <td>Poole Matthew</td>\n",
       "      <td>MatthewPoole@gustr.com</td>\n",
       "      <td>ORG_INVITE</td>\n",
       "      <td>1.396238e+09</td>\n",
       "      <td>0</td>\n",
       "      <td>0</td>\n",
       "      <td>1</td>\n",
       "      <td>316.0</td>\n",
       "    </tr>\n",
       "    <tr>\n",
       "      <th>2</th>\n",
       "      <td>3</td>\n",
       "      <td>2013-03-19 23:14:52</td>\n",
       "      <td>Bottrill Mitchell</td>\n",
       "      <td>MitchellBottrill@gustr.com</td>\n",
       "      <td>ORG_INVITE</td>\n",
       "      <td>1.363735e+09</td>\n",
       "      <td>0</td>\n",
       "      <td>0</td>\n",
       "      <td>94</td>\n",
       "      <td>1525.0</td>\n",
       "    </tr>\n",
       "    <tr>\n",
       "      <th>3</th>\n",
       "      <td>4</td>\n",
       "      <td>2013-05-21 08:09:28</td>\n",
       "      <td>Clausen Nicklas</td>\n",
       "      <td>NicklasSClausen@yahoo.com</td>\n",
       "      <td>GUEST_INVITE</td>\n",
       "      <td>1.369210e+09</td>\n",
       "      <td>0</td>\n",
       "      <td>0</td>\n",
       "      <td>1</td>\n",
       "      <td>5151.0</td>\n",
       "    </tr>\n",
       "    <tr>\n",
       "      <th>4</th>\n",
       "      <td>5</td>\n",
       "      <td>2013-01-17 10:14:20</td>\n",
       "      <td>Raw Grace</td>\n",
       "      <td>GraceRaw@yahoo.com</td>\n",
       "      <td>GUEST_INVITE</td>\n",
       "      <td>1.358850e+09</td>\n",
       "      <td>0</td>\n",
       "      <td>0</td>\n",
       "      <td>193</td>\n",
       "      <td>5240.0</td>\n",
       "    </tr>\n",
       "  </tbody>\n",
       "</table>\n",
       "</div>"
      ],
      "text/plain": [
       "   object_id        creation_time               name  \\\n",
       "0          1  2014-04-22 03:53:30     Clausen August   \n",
       "1          2  2013-11-15 03:45:04      Poole Matthew   \n",
       "2          3  2013-03-19 23:14:52  Bottrill Mitchell   \n",
       "3          4  2013-05-21 08:09:28    Clausen Nicklas   \n",
       "4          5  2013-01-17 10:14:20          Raw Grace   \n",
       "\n",
       "                        email creation_source  last_session_creation_time  \\\n",
       "0    AugustCClausen@yahoo.com    GUEST_INVITE                1.398139e+09   \n",
       "1      MatthewPoole@gustr.com      ORG_INVITE                1.396238e+09   \n",
       "2  MitchellBottrill@gustr.com      ORG_INVITE                1.363735e+09   \n",
       "3   NicklasSClausen@yahoo.com    GUEST_INVITE                1.369210e+09   \n",
       "4          GraceRaw@yahoo.com    GUEST_INVITE                1.358850e+09   \n",
       "\n",
       "   opted_in_to_mailing_list  enabled_for_marketing_drip  org_id  \\\n",
       "0                         1                           0      11   \n",
       "1                         0                           0       1   \n",
       "2                         0                           0      94   \n",
       "3                         0                           0       1   \n",
       "4                         0                           0     193   \n",
       "\n",
       "   invited_by_user_id  \n",
       "0             10803.0  \n",
       "1               316.0  \n",
       "2              1525.0  \n",
       "3              5151.0  \n",
       "4              5240.0  "
      ]
     },
     "execution_count": 4,
     "metadata": {},
     "output_type": "execute_result"
    }
   ],
   "source": [
    "users = users_raw.copy()\n",
    "users.head()"
   ]
  },
  {
   "cell_type": "markdown",
   "id": "a08fa176",
   "metadata": {},
   "source": [
    "### Determine the \"Adopted Users\""
   ]
  },
  {
   "cell_type": "code",
   "execution_count": 5,
   "id": "eb40edd8",
   "metadata": {},
   "outputs": [
    {
     "data": {
      "text/html": [
       "<div>\n",
       "<style scoped>\n",
       "    .dataframe tbody tr th:only-of-type {\n",
       "        vertical-align: middle;\n",
       "    }\n",
       "\n",
       "    .dataframe tbody tr th {\n",
       "        vertical-align: top;\n",
       "    }\n",
       "\n",
       "    .dataframe thead th {\n",
       "        text-align: right;\n",
       "    }\n",
       "</style>\n",
       "<table border=\"1\" class=\"dataframe\">\n",
       "  <thead>\n",
       "    <tr style=\"text-align: right;\">\n",
       "      <th></th>\n",
       "      <th>time_stamp</th>\n",
       "      <th>visited</th>\n",
       "    </tr>\n",
       "    <tr>\n",
       "      <th>user_id</th>\n",
       "      <th></th>\n",
       "      <th></th>\n",
       "    </tr>\n",
       "  </thead>\n",
       "  <tbody>\n",
       "    <tr>\n",
       "      <th>1</th>\n",
       "      <td>2014-04-22 03:53:30</td>\n",
       "      <td>1</td>\n",
       "    </tr>\n",
       "    <tr>\n",
       "      <th>2</th>\n",
       "      <td>2013-11-15 03:45:04</td>\n",
       "      <td>1</td>\n",
       "    </tr>\n",
       "    <tr>\n",
       "      <th>2</th>\n",
       "      <td>2013-11-29 03:45:04</td>\n",
       "      <td>1</td>\n",
       "    </tr>\n",
       "    <tr>\n",
       "      <th>2</th>\n",
       "      <td>2013-12-09 03:45:04</td>\n",
       "      <td>1</td>\n",
       "    </tr>\n",
       "    <tr>\n",
       "      <th>2</th>\n",
       "      <td>2013-12-25 03:45:04</td>\n",
       "      <td>1</td>\n",
       "    </tr>\n",
       "  </tbody>\n",
       "</table>\n",
       "</div>"
      ],
      "text/plain": [
       "                  time_stamp  visited\n",
       "user_id                              \n",
       "1        2014-04-22 03:53:30        1\n",
       "2        2013-11-15 03:45:04        1\n",
       "2        2013-11-29 03:45:04        1\n",
       "2        2013-12-09 03:45:04        1\n",
       "2        2013-12-25 03:45:04        1"
      ]
     },
     "execution_count": 5,
     "metadata": {},
     "output_type": "execute_result"
    }
   ],
   "source": [
    "# order the entries\n",
    "user_eng.set_index(['user_id'], inplace=True)\n",
    "user_eng.sort_index(inplace=True)\n",
    "user_eng.head()"
   ]
  },
  {
   "cell_type": "code",
   "execution_count": 6,
   "id": "25bfa490",
   "metadata": {},
   "outputs": [],
   "source": [
    "# convert time_stamps into datetimes\n",
    "user_eng['time_stamp'] = user_eng['time_stamp'].apply(lambda time: dt.datetime.strptime(time, '%Y-%m-%d %H:%M:%S'))"
   ]
  },
  {
   "cell_type": "code",
   "execution_count": 7,
   "id": "61db1b22",
   "metadata": {},
   "outputs": [
    {
     "data": {
      "text/html": [
       "<div>\n",
       "<style scoped>\n",
       "    .dataframe tbody tr th:only-of-type {\n",
       "        vertical-align: middle;\n",
       "    }\n",
       "\n",
       "    .dataframe tbody tr th {\n",
       "        vertical-align: top;\n",
       "    }\n",
       "\n",
       "    .dataframe thead th {\n",
       "        text-align: right;\n",
       "    }\n",
       "</style>\n",
       "<table border=\"1\" class=\"dataframe\">\n",
       "  <thead>\n",
       "    <tr style=\"text-align: right;\">\n",
       "      <th></th>\n",
       "      <th>object_id</th>\n",
       "      <th>creation_time</th>\n",
       "      <th>name</th>\n",
       "      <th>email</th>\n",
       "      <th>creation_source</th>\n",
       "      <th>last_session_creation_time</th>\n",
       "      <th>opted_in_to_mailing_list</th>\n",
       "      <th>enabled_for_marketing_drip</th>\n",
       "      <th>org_id</th>\n",
       "      <th>invited_by_user_id</th>\n",
       "      <th>adopted</th>\n",
       "    </tr>\n",
       "  </thead>\n",
       "  <tbody>\n",
       "    <tr>\n",
       "      <th>0</th>\n",
       "      <td>1</td>\n",
       "      <td>2014-04-22 03:53:30</td>\n",
       "      <td>Clausen August</td>\n",
       "      <td>AugustCClausen@yahoo.com</td>\n",
       "      <td>GUEST_INVITE</td>\n",
       "      <td>1.398139e+09</td>\n",
       "      <td>1</td>\n",
       "      <td>0</td>\n",
       "      <td>11</td>\n",
       "      <td>10803.0</td>\n",
       "      <td>False</td>\n",
       "    </tr>\n",
       "    <tr>\n",
       "      <th>1</th>\n",
       "      <td>2</td>\n",
       "      <td>2013-11-15 03:45:04</td>\n",
       "      <td>Poole Matthew</td>\n",
       "      <td>MatthewPoole@gustr.com</td>\n",
       "      <td>ORG_INVITE</td>\n",
       "      <td>1.396238e+09</td>\n",
       "      <td>0</td>\n",
       "      <td>0</td>\n",
       "      <td>1</td>\n",
       "      <td>316.0</td>\n",
       "      <td>False</td>\n",
       "    </tr>\n",
       "    <tr>\n",
       "      <th>2</th>\n",
       "      <td>3</td>\n",
       "      <td>2013-03-19 23:14:52</td>\n",
       "      <td>Bottrill Mitchell</td>\n",
       "      <td>MitchellBottrill@gustr.com</td>\n",
       "      <td>ORG_INVITE</td>\n",
       "      <td>1.363735e+09</td>\n",
       "      <td>0</td>\n",
       "      <td>0</td>\n",
       "      <td>94</td>\n",
       "      <td>1525.0</td>\n",
       "      <td>False</td>\n",
       "    </tr>\n",
       "    <tr>\n",
       "      <th>3</th>\n",
       "      <td>4</td>\n",
       "      <td>2013-05-21 08:09:28</td>\n",
       "      <td>Clausen Nicklas</td>\n",
       "      <td>NicklasSClausen@yahoo.com</td>\n",
       "      <td>GUEST_INVITE</td>\n",
       "      <td>1.369210e+09</td>\n",
       "      <td>0</td>\n",
       "      <td>0</td>\n",
       "      <td>1</td>\n",
       "      <td>5151.0</td>\n",
       "      <td>False</td>\n",
       "    </tr>\n",
       "    <tr>\n",
       "      <th>4</th>\n",
       "      <td>5</td>\n",
       "      <td>2013-01-17 10:14:20</td>\n",
       "      <td>Raw Grace</td>\n",
       "      <td>GraceRaw@yahoo.com</td>\n",
       "      <td>GUEST_INVITE</td>\n",
       "      <td>1.358850e+09</td>\n",
       "      <td>0</td>\n",
       "      <td>0</td>\n",
       "      <td>193</td>\n",
       "      <td>5240.0</td>\n",
       "      <td>False</td>\n",
       "    </tr>\n",
       "  </tbody>\n",
       "</table>\n",
       "</div>"
      ],
      "text/plain": [
       "   object_id        creation_time               name  \\\n",
       "0          1  2014-04-22 03:53:30     Clausen August   \n",
       "1          2  2013-11-15 03:45:04      Poole Matthew   \n",
       "2          3  2013-03-19 23:14:52  Bottrill Mitchell   \n",
       "3          4  2013-05-21 08:09:28    Clausen Nicklas   \n",
       "4          5  2013-01-17 10:14:20          Raw Grace   \n",
       "\n",
       "                        email creation_source  last_session_creation_time  \\\n",
       "0    AugustCClausen@yahoo.com    GUEST_INVITE                1.398139e+09   \n",
       "1      MatthewPoole@gustr.com      ORG_INVITE                1.396238e+09   \n",
       "2  MitchellBottrill@gustr.com      ORG_INVITE                1.363735e+09   \n",
       "3   NicklasSClausen@yahoo.com    GUEST_INVITE                1.369210e+09   \n",
       "4          GraceRaw@yahoo.com    GUEST_INVITE                1.358850e+09   \n",
       "\n",
       "   opted_in_to_mailing_list  enabled_for_marketing_drip  org_id  \\\n",
       "0                         1                           0      11   \n",
       "1                         0                           0       1   \n",
       "2                         0                           0      94   \n",
       "3                         0                           0       1   \n",
       "4                         0                           0     193   \n",
       "\n",
       "   invited_by_user_id  adopted  \n",
       "0             10803.0    False  \n",
       "1               316.0    False  \n",
       "2              1525.0    False  \n",
       "3              5151.0    False  \n",
       "4              5240.0    False  "
      ]
     },
     "execution_count": 7,
     "metadata": {},
     "output_type": "execute_result"
    }
   ],
   "source": [
    "# initialize users as not adopted\n",
    "users['adopted'] = False\n",
    "users.head()"
   ]
  },
  {
   "cell_type": "code",
   "execution_count": 8,
   "id": "ca48e09d",
   "metadata": {},
   "outputs": [],
   "source": [
    "# unique user_id\n",
    "user_ids = user_eng.index.unique()\n",
    "\n",
    "# for each user\n",
    "for i in user_ids:\n",
    "    \n",
    "    # initialize/reset adopted status\n",
    "    adopted = False\n",
    "    \n",
    "    # copy user visits\n",
    "    user_visits = user_eng[user_eng.index==i]\n",
    "    \n",
    "    # if more than 1 visit, else adopted=False\n",
    "    if len(user_visits) > 1: \n",
    "        \n",
    "        # increment left index 1 at a time\n",
    "        for j in range(len(user_visits)):\n",
    "            \n",
    "            # increment right index 1 at a time\n",
    "            for k in range(j, len(user_visits)):\n",
    "\n",
    "                # if window's time delta is greater than 7 days, break loop to slide window start\n",
    "                timedelta = (user_visits.iloc[k]['time_stamp'] - user_visits.iloc[j]['time_stamp'])\n",
    "                if timedelta > dt.timedelta(days=7):\n",
    "                    break\n",
    "\n",
    "                # sum unique days\n",
    "                date_stamps = user_visits.iloc[j:k]['time_stamp'].apply(lambda date: date.strftime('%Y-%m-%d'))\n",
    "                if len(date_stamps.unique()) >= 3:\n",
    "                    adopted = True\n",
    "                    break\n",
    "        \n",
    "            # user considered \"adopted\"\n",
    "            if adopted:\n",
    "                # update user adopted status\n",
    "                users.loc[users['object_id']==i, 'adopted'] = True\n",
    "                # move on to the next user\n",
    "                break"
   ]
  },
  {
   "cell_type": "code",
   "execution_count": 9,
   "id": "130cf0e2",
   "metadata": {},
   "outputs": [
    {
     "data": {
      "text/plain": [
       "adopted\n",
       "False    10661\n",
       "True      1339\n",
       "Name: count, dtype: int64"
      ]
     },
     "execution_count": 9,
     "metadata": {},
     "output_type": "execute_result"
    }
   ],
   "source": [
    "# check class balance\n",
    "users['adopted'].value_counts()"
   ]
  },
  {
   "cell_type": "markdown",
   "id": "86f1fba1",
   "metadata": {},
   "source": [
    "### Extract Features"
   ]
  },
  {
   "cell_type": "code",
   "execution_count": 10,
   "id": "91fdcc01",
   "metadata": {},
   "outputs": [],
   "source": [
    "# drop NaN rows\n",
    "users.dropna(axis=0, inplace=True)"
   ]
  },
  {
   "cell_type": "markdown",
   "id": "c9bd2c4d",
   "metadata": {},
   "source": [
    "#### Time features"
   ]
  },
  {
   "cell_type": "code",
   "execution_count": 11,
   "id": "a80b9569",
   "metadata": {},
   "outputs": [
    {
     "data": {
      "text/html": [
       "<div>\n",
       "<style scoped>\n",
       "    .dataframe tbody tr th:only-of-type {\n",
       "        vertical-align: middle;\n",
       "    }\n",
       "\n",
       "    .dataframe tbody tr th {\n",
       "        vertical-align: top;\n",
       "    }\n",
       "\n",
       "    .dataframe thead th {\n",
       "        text-align: right;\n",
       "    }\n",
       "</style>\n",
       "<table border=\"1\" class=\"dataframe\">\n",
       "  <thead>\n",
       "    <tr style=\"text-align: right;\">\n",
       "      <th></th>\n",
       "      <th>object_id</th>\n",
       "      <th>creation_time</th>\n",
       "      <th>name</th>\n",
       "      <th>email</th>\n",
       "      <th>creation_source</th>\n",
       "      <th>last_session_creation_time</th>\n",
       "      <th>opted_in_to_mailing_list</th>\n",
       "      <th>enabled_for_marketing_drip</th>\n",
       "      <th>org_id</th>\n",
       "      <th>invited_by_user_id</th>\n",
       "      <th>adopted</th>\n",
       "      <th>creation_year</th>\n",
       "      <th>creation_month</th>\n",
       "      <th>creation_day</th>\n",
       "      <th>creation_hour</th>\n",
       "      <th>last_session_year</th>\n",
       "      <th>last_session_month</th>\n",
       "      <th>last_session_day</th>\n",
       "      <th>last_session_hour</th>\n",
       "    </tr>\n",
       "  </thead>\n",
       "  <tbody>\n",
       "    <tr>\n",
       "      <th>0</th>\n",
       "      <td>1</td>\n",
       "      <td>1.398157e+09</td>\n",
       "      <td>Clausen August</td>\n",
       "      <td>AugustCClausen@yahoo.com</td>\n",
       "      <td>GUEST_INVITE</td>\n",
       "      <td>1.398139e+09</td>\n",
       "      <td>1</td>\n",
       "      <td>0</td>\n",
       "      <td>11</td>\n",
       "      <td>10803.0</td>\n",
       "      <td>False</td>\n",
       "      <td>2014</td>\n",
       "      <td>4</td>\n",
       "      <td>22</td>\n",
       "      <td>3</td>\n",
       "      <td>2014</td>\n",
       "      <td>4</td>\n",
       "      <td>21</td>\n",
       "      <td>22</td>\n",
       "    </tr>\n",
       "    <tr>\n",
       "      <th>1</th>\n",
       "      <td>2</td>\n",
       "      <td>1.384509e+09</td>\n",
       "      <td>Poole Matthew</td>\n",
       "      <td>MatthewPoole@gustr.com</td>\n",
       "      <td>ORG_INVITE</td>\n",
       "      <td>1.396238e+09</td>\n",
       "      <td>0</td>\n",
       "      <td>0</td>\n",
       "      <td>1</td>\n",
       "      <td>316.0</td>\n",
       "      <td>False</td>\n",
       "      <td>2013</td>\n",
       "      <td>11</td>\n",
       "      <td>15</td>\n",
       "      <td>3</td>\n",
       "      <td>2014</td>\n",
       "      <td>3</td>\n",
       "      <td>30</td>\n",
       "      <td>22</td>\n",
       "    </tr>\n",
       "    <tr>\n",
       "      <th>2</th>\n",
       "      <td>3</td>\n",
       "      <td>1.363753e+09</td>\n",
       "      <td>Bottrill Mitchell</td>\n",
       "      <td>MitchellBottrill@gustr.com</td>\n",
       "      <td>ORG_INVITE</td>\n",
       "      <td>1.363735e+09</td>\n",
       "      <td>0</td>\n",
       "      <td>0</td>\n",
       "      <td>94</td>\n",
       "      <td>1525.0</td>\n",
       "      <td>False</td>\n",
       "      <td>2013</td>\n",
       "      <td>3</td>\n",
       "      <td>19</td>\n",
       "      <td>23</td>\n",
       "      <td>2013</td>\n",
       "      <td>3</td>\n",
       "      <td>19</td>\n",
       "      <td>18</td>\n",
       "    </tr>\n",
       "    <tr>\n",
       "      <th>3</th>\n",
       "      <td>4</td>\n",
       "      <td>1.369142e+09</td>\n",
       "      <td>Clausen Nicklas</td>\n",
       "      <td>NicklasSClausen@yahoo.com</td>\n",
       "      <td>GUEST_INVITE</td>\n",
       "      <td>1.369210e+09</td>\n",
       "      <td>0</td>\n",
       "      <td>0</td>\n",
       "      <td>1</td>\n",
       "      <td>5151.0</td>\n",
       "      <td>False</td>\n",
       "      <td>2013</td>\n",
       "      <td>5</td>\n",
       "      <td>21</td>\n",
       "      <td>8</td>\n",
       "      <td>2013</td>\n",
       "      <td>5</td>\n",
       "      <td>22</td>\n",
       "      <td>3</td>\n",
       "    </tr>\n",
       "    <tr>\n",
       "      <th>4</th>\n",
       "      <td>5</td>\n",
       "      <td>1.358439e+09</td>\n",
       "      <td>Raw Grace</td>\n",
       "      <td>GraceRaw@yahoo.com</td>\n",
       "      <td>GUEST_INVITE</td>\n",
       "      <td>1.358850e+09</td>\n",
       "      <td>0</td>\n",
       "      <td>0</td>\n",
       "      <td>193</td>\n",
       "      <td>5240.0</td>\n",
       "      <td>False</td>\n",
       "      <td>2013</td>\n",
       "      <td>1</td>\n",
       "      <td>17</td>\n",
       "      <td>10</td>\n",
       "      <td>2013</td>\n",
       "      <td>1</td>\n",
       "      <td>22</td>\n",
       "      <td>4</td>\n",
       "    </tr>\n",
       "  </tbody>\n",
       "</table>\n",
       "</div>"
      ],
      "text/plain": [
       "   object_id  creation_time               name                       email  \\\n",
       "0          1   1.398157e+09     Clausen August    AugustCClausen@yahoo.com   \n",
       "1          2   1.384509e+09      Poole Matthew      MatthewPoole@gustr.com   \n",
       "2          3   1.363753e+09  Bottrill Mitchell  MitchellBottrill@gustr.com   \n",
       "3          4   1.369142e+09    Clausen Nicklas   NicklasSClausen@yahoo.com   \n",
       "4          5   1.358439e+09          Raw Grace          GraceRaw@yahoo.com   \n",
       "\n",
       "  creation_source  last_session_creation_time  opted_in_to_mailing_list  \\\n",
       "0    GUEST_INVITE                1.398139e+09                         1   \n",
       "1      ORG_INVITE                1.396238e+09                         0   \n",
       "2      ORG_INVITE                1.363735e+09                         0   \n",
       "3    GUEST_INVITE                1.369210e+09                         0   \n",
       "4    GUEST_INVITE                1.358850e+09                         0   \n",
       "\n",
       "   enabled_for_marketing_drip  org_id  invited_by_user_id  adopted  \\\n",
       "0                           0      11             10803.0    False   \n",
       "1                           0       1               316.0    False   \n",
       "2                           0      94              1525.0    False   \n",
       "3                           0       1              5151.0    False   \n",
       "4                           0     193              5240.0    False   \n",
       "\n",
       "   creation_year  creation_month  creation_day  creation_hour  \\\n",
       "0           2014               4            22              3   \n",
       "1           2013              11            15              3   \n",
       "2           2013               3            19             23   \n",
       "3           2013               5            21              8   \n",
       "4           2013               1            17             10   \n",
       "\n",
       "   last_session_year  last_session_month  last_session_day  last_session_hour  \n",
       "0               2014                   4                21                 22  \n",
       "1               2014                   3                30                 22  \n",
       "2               2013                   3                19                 18  \n",
       "3               2013                   5                22                  3  \n",
       "4               2013                   1                22                  4  "
      ]
     },
     "execution_count": 11,
     "metadata": {},
     "output_type": "execute_result"
    }
   ],
   "source": [
    "# convert creation_time string to datetime\n",
    "users['creation_time'] = users['creation_time'].apply(lambda time: dt.datetime.strptime(time, '%Y-%m-%d %H:%M:%S'))\n",
    "\n",
    "# get year, month, day, hour features\n",
    "users['creation_year']  = users['creation_time'].apply(lambda time: time.year)\n",
    "users['creation_month'] = users['creation_time'].apply(lambda time: time.month)\n",
    "users['creation_day']   = users['creation_time'].apply(lambda time: time.day)\n",
    "users['creation_hour']  = users['creation_time'].apply(lambda time: time.hour)\n",
    "\n",
    "# convert last_session_creation_time from UNIX to datetime\n",
    "users['last_session_creation_time'] = users['last_session_creation_time'].apply(lambda date_time: dt.datetime.fromtimestamp(date_time))\n",
    "\n",
    "users['last_session_year']  = users['last_session_creation_time'].apply(lambda time: time.year)\n",
    "users['last_session_month'] = users['last_session_creation_time'].apply(lambda time: time.month)\n",
    "users['last_session_day']   = users['last_session_creation_time'].apply(lambda time: time.day)\n",
    "users['last_session_hour']  = users['last_session_creation_time'].apply(lambda time: time.hour)\n",
    "\n",
    "# convert creation_time datetime into UNIX timestamps\n",
    "users['creation_time'] = users['creation_time'].apply(lambda date_time: time.mktime(date_time.timetuple()))\n",
    "users['last_session_creation_time'] = users['last_session_creation_time'].apply(lambda date_time: time.mktime(date_time.timetuple()))\n",
    "users.head()"
   ]
  },
  {
   "cell_type": "markdown",
   "id": "b8f38eee",
   "metadata": {},
   "source": [
    "#### Email features"
   ]
  },
  {
   "cell_type": "code",
   "execution_count": 12,
   "id": "d4eb4193",
   "metadata": {},
   "outputs": [],
   "source": [
    "# create email domain feature\n",
    "import re\n",
    "users['email_domain'] = users['email'].apply(lambda email: re.search(\"@[\\w.]+\", email).group())"
   ]
  },
  {
   "cell_type": "code",
   "execution_count": 13,
   "id": "2b0808c0",
   "metadata": {},
   "outputs": [
    {
     "data": {
      "text/html": [
       "<div>\n",
       "<style scoped>\n",
       "    .dataframe tbody tr th:only-of-type {\n",
       "        vertical-align: middle;\n",
       "    }\n",
       "\n",
       "    .dataframe tbody tr th {\n",
       "        vertical-align: top;\n",
       "    }\n",
       "\n",
       "    .dataframe thead th {\n",
       "        text-align: right;\n",
       "    }\n",
       "</style>\n",
       "<table border=\"1\" class=\"dataframe\">\n",
       "  <thead>\n",
       "    <tr style=\"text-align: right;\">\n",
       "      <th></th>\n",
       "      <th>object_id</th>\n",
       "      <th>creation_time</th>\n",
       "      <th>creation_source</th>\n",
       "      <th>last_session_creation_time</th>\n",
       "      <th>opted_in_to_mailing_list</th>\n",
       "      <th>enabled_for_marketing_drip</th>\n",
       "      <th>org_id</th>\n",
       "      <th>adopted</th>\n",
       "      <th>creation_year</th>\n",
       "      <th>creation_month</th>\n",
       "      <th>creation_day</th>\n",
       "      <th>creation_hour</th>\n",
       "      <th>last_session_year</th>\n",
       "      <th>last_session_month</th>\n",
       "      <th>last_session_day</th>\n",
       "      <th>last_session_hour</th>\n",
       "      <th>email_domain</th>\n",
       "    </tr>\n",
       "  </thead>\n",
       "  <tbody>\n",
       "    <tr>\n",
       "      <th>0</th>\n",
       "      <td>1</td>\n",
       "      <td>1.398157e+09</td>\n",
       "      <td>GUEST_INVITE</td>\n",
       "      <td>1.398139e+09</td>\n",
       "      <td>1</td>\n",
       "      <td>0</td>\n",
       "      <td>11</td>\n",
       "      <td>False</td>\n",
       "      <td>2014</td>\n",
       "      <td>4</td>\n",
       "      <td>22</td>\n",
       "      <td>3</td>\n",
       "      <td>2014</td>\n",
       "      <td>4</td>\n",
       "      <td>21</td>\n",
       "      <td>22</td>\n",
       "      <td>@yahoo.com</td>\n",
       "    </tr>\n",
       "    <tr>\n",
       "      <th>1</th>\n",
       "      <td>2</td>\n",
       "      <td>1.384509e+09</td>\n",
       "      <td>ORG_INVITE</td>\n",
       "      <td>1.396238e+09</td>\n",
       "      <td>0</td>\n",
       "      <td>0</td>\n",
       "      <td>1</td>\n",
       "      <td>False</td>\n",
       "      <td>2013</td>\n",
       "      <td>11</td>\n",
       "      <td>15</td>\n",
       "      <td>3</td>\n",
       "      <td>2014</td>\n",
       "      <td>3</td>\n",
       "      <td>30</td>\n",
       "      <td>22</td>\n",
       "      <td>@gustr.com</td>\n",
       "    </tr>\n",
       "    <tr>\n",
       "      <th>2</th>\n",
       "      <td>3</td>\n",
       "      <td>1.363753e+09</td>\n",
       "      <td>ORG_INVITE</td>\n",
       "      <td>1.363735e+09</td>\n",
       "      <td>0</td>\n",
       "      <td>0</td>\n",
       "      <td>94</td>\n",
       "      <td>False</td>\n",
       "      <td>2013</td>\n",
       "      <td>3</td>\n",
       "      <td>19</td>\n",
       "      <td>23</td>\n",
       "      <td>2013</td>\n",
       "      <td>3</td>\n",
       "      <td>19</td>\n",
       "      <td>18</td>\n",
       "      <td>@gustr.com</td>\n",
       "    </tr>\n",
       "    <tr>\n",
       "      <th>3</th>\n",
       "      <td>4</td>\n",
       "      <td>1.369142e+09</td>\n",
       "      <td>GUEST_INVITE</td>\n",
       "      <td>1.369210e+09</td>\n",
       "      <td>0</td>\n",
       "      <td>0</td>\n",
       "      <td>1</td>\n",
       "      <td>False</td>\n",
       "      <td>2013</td>\n",
       "      <td>5</td>\n",
       "      <td>21</td>\n",
       "      <td>8</td>\n",
       "      <td>2013</td>\n",
       "      <td>5</td>\n",
       "      <td>22</td>\n",
       "      <td>3</td>\n",
       "      <td>@yahoo.com</td>\n",
       "    </tr>\n",
       "    <tr>\n",
       "      <th>4</th>\n",
       "      <td>5</td>\n",
       "      <td>1.358439e+09</td>\n",
       "      <td>GUEST_INVITE</td>\n",
       "      <td>1.358850e+09</td>\n",
       "      <td>0</td>\n",
       "      <td>0</td>\n",
       "      <td>193</td>\n",
       "      <td>False</td>\n",
       "      <td>2013</td>\n",
       "      <td>1</td>\n",
       "      <td>17</td>\n",
       "      <td>10</td>\n",
       "      <td>2013</td>\n",
       "      <td>1</td>\n",
       "      <td>22</td>\n",
       "      <td>4</td>\n",
       "      <td>@yahoo.com</td>\n",
       "    </tr>\n",
       "  </tbody>\n",
       "</table>\n",
       "</div>"
      ],
      "text/plain": [
       "   object_id  creation_time creation_source  last_session_creation_time  \\\n",
       "0          1   1.398157e+09    GUEST_INVITE                1.398139e+09   \n",
       "1          2   1.384509e+09      ORG_INVITE                1.396238e+09   \n",
       "2          3   1.363753e+09      ORG_INVITE                1.363735e+09   \n",
       "3          4   1.369142e+09    GUEST_INVITE                1.369210e+09   \n",
       "4          5   1.358439e+09    GUEST_INVITE                1.358850e+09   \n",
       "\n",
       "   opted_in_to_mailing_list  enabled_for_marketing_drip  org_id  adopted  \\\n",
       "0                         1                           0      11    False   \n",
       "1                         0                           0       1    False   \n",
       "2                         0                           0      94    False   \n",
       "3                         0                           0       1    False   \n",
       "4                         0                           0     193    False   \n",
       "\n",
       "   creation_year  creation_month  creation_day  creation_hour  \\\n",
       "0           2014               4            22              3   \n",
       "1           2013              11            15              3   \n",
       "2           2013               3            19             23   \n",
       "3           2013               5            21              8   \n",
       "4           2013               1            17             10   \n",
       "\n",
       "   last_session_year  last_session_month  last_session_day  last_session_hour  \\\n",
       "0               2014                   4                21                 22   \n",
       "1               2014                   3                30                 22   \n",
       "2               2013                   3                19                 18   \n",
       "3               2013                   5                22                  3   \n",
       "4               2013                   1                22                  4   \n",
       "\n",
       "  email_domain  \n",
       "0   @yahoo.com  \n",
       "1   @gustr.com  \n",
       "2   @gustr.com  \n",
       "3   @yahoo.com  \n",
       "4   @yahoo.com  "
      ]
     },
     "execution_count": 13,
     "metadata": {},
     "output_type": "execute_result"
    }
   ],
   "source": [
    "# drop columns with private information that is unique to the user\n",
    "users.drop(['name', 'email', 'invited_by_user_id'], axis=1, inplace=True)\n",
    "users.head()"
   ]
  },
  {
   "cell_type": "markdown",
   "id": "5b5519c0",
   "metadata": {},
   "source": [
    "### Find which features correlate the most with the adopted users"
   ]
  },
  {
   "cell_type": "code",
   "execution_count": 14,
   "id": "6bfbf11d",
   "metadata": {},
   "outputs": [
    {
     "name": "stdout",
     "output_type": "stream",
     "text": [
      "<class 'pandas.core.frame.DataFrame'>\n",
      "Index: 4776 entries, 0 to 11997\n",
      "Data columns (total 17 columns):\n",
      " #   Column                      Non-Null Count  Dtype  \n",
      "---  ------                      --------------  -----  \n",
      " 0   object_id                   4776 non-null   int64  \n",
      " 1   creation_time               4776 non-null   float64\n",
      " 2   creation_source             4776 non-null   object \n",
      " 3   last_session_creation_time  4776 non-null   float64\n",
      " 4   opted_in_to_mailing_list    4776 non-null   int64  \n",
      " 5   enabled_for_marketing_drip  4776 non-null   int64  \n",
      " 6   org_id                      4776 non-null   int64  \n",
      " 7   adopted                     4776 non-null   bool   \n",
      " 8   creation_year               4776 non-null   int64  \n",
      " 9   creation_month              4776 non-null   int64  \n",
      " 10  creation_day                4776 non-null   int64  \n",
      " 11  creation_hour               4776 non-null   int64  \n",
      " 12  last_session_year           4776 non-null   int64  \n",
      " 13  last_session_month          4776 non-null   int64  \n",
      " 14  last_session_day            4776 non-null   int64  \n",
      " 15  last_session_hour           4776 non-null   int64  \n",
      " 16  email_domain                4776 non-null   object \n",
      "dtypes: bool(1), float64(2), int64(12), object(2)\n",
      "memory usage: 639.0+ KB\n"
     ]
    }
   ],
   "source": [
    "# check types\n",
    "users.info()"
   ]
  },
  {
   "cell_type": "code",
   "execution_count": 15,
   "id": "91353a70",
   "metadata": {},
   "outputs": [],
   "source": [
    "users = pd.get_dummies(users, columns=['creation_source', 'email_domain'])"
   ]
  },
  {
   "cell_type": "code",
   "execution_count": 16,
   "id": "f9f89bb7",
   "metadata": {},
   "outputs": [],
   "source": [
    "users.set_index('object_id', inplace=True)"
   ]
  },
  {
   "cell_type": "code",
   "execution_count": 17,
   "id": "0270e328",
   "metadata": {},
   "outputs": [],
   "source": [
    "# create X and y datasets\n",
    "X = users.drop('adopted', axis=1)\n",
    "y = users[['adopted']]"
   ]
  },
  {
   "cell_type": "code",
   "execution_count": 18,
   "id": "3d66c37c",
   "metadata": {},
   "outputs": [
    {
     "data": {
      "text/plain": [
       "adopted\n",
       "False      4011\n",
       "True        765\n",
       "Name: count, dtype: int64"
      ]
     },
     "execution_count": 18,
     "metadata": {},
     "output_type": "execute_result"
    }
   ],
   "source": [
    "# check class balance\n",
    "y.value_counts()"
   ]
  },
  {
   "cell_type": "code",
   "execution_count": 19,
   "id": "cf040e63",
   "metadata": {},
   "outputs": [],
   "source": [
    "# split into train and test sets\n",
    "from sklearn.model_selection import train_test_split\n",
    "X_train, X_test, y_train, y_test = train_test_split(X, y)"
   ]
  },
  {
   "cell_type": "code",
   "execution_count": 20,
   "id": "5981b4bf",
   "metadata": {},
   "outputs": [
    {
     "data": {
      "text/plain": [
       "adopted\n",
       "False      3007\n",
       "True        575\n",
       "Name: count, dtype: int64"
      ]
     },
     "execution_count": 20,
     "metadata": {},
     "output_type": "execute_result"
    }
   ],
   "source": [
    "# check split class balance\n",
    "y_train.value_counts()"
   ]
  },
  {
   "cell_type": "markdown",
   "id": "1a287d00",
   "metadata": {},
   "source": [
    "### Use random forest to determine feature importances"
   ]
  },
  {
   "cell_type": "code",
   "execution_count": 21,
   "id": "ab65319d",
   "metadata": {},
   "outputs": [],
   "source": [
    "from sklearn.ensemble import RandomForestClassifier\n",
    "from sklearn.metrics import accuracy_score, recall_score, precision_score\n",
    "import matplotlib.pyplot as plt\n",
    "import seaborn as sns"
   ]
  },
  {
   "cell_type": "code",
   "execution_count": 22,
   "id": "4ebd2475",
   "metadata": {},
   "outputs": [
    {
     "data": {
      "text/html": [
       "<style>#sk-container-id-1 {color: black;}#sk-container-id-1 pre{padding: 0;}#sk-container-id-1 div.sk-toggleable {background-color: white;}#sk-container-id-1 label.sk-toggleable__label {cursor: pointer;display: block;width: 100%;margin-bottom: 0;padding: 0.3em;box-sizing: border-box;text-align: center;}#sk-container-id-1 label.sk-toggleable__label-arrow:before {content: \"▸\";float: left;margin-right: 0.25em;color: #696969;}#sk-container-id-1 label.sk-toggleable__label-arrow:hover:before {color: black;}#sk-container-id-1 div.sk-estimator:hover label.sk-toggleable__label-arrow:before {color: black;}#sk-container-id-1 div.sk-toggleable__content {max-height: 0;max-width: 0;overflow: hidden;text-align: left;background-color: #f0f8ff;}#sk-container-id-1 div.sk-toggleable__content pre {margin: 0.2em;color: black;border-radius: 0.25em;background-color: #f0f8ff;}#sk-container-id-1 input.sk-toggleable__control:checked~div.sk-toggleable__content {max-height: 200px;max-width: 100%;overflow: auto;}#sk-container-id-1 input.sk-toggleable__control:checked~label.sk-toggleable__label-arrow:before {content: \"▾\";}#sk-container-id-1 div.sk-estimator input.sk-toggleable__control:checked~label.sk-toggleable__label {background-color: #d4ebff;}#sk-container-id-1 div.sk-label input.sk-toggleable__control:checked~label.sk-toggleable__label {background-color: #d4ebff;}#sk-container-id-1 input.sk-hidden--visually {border: 0;clip: rect(1px 1px 1px 1px);clip: rect(1px, 1px, 1px, 1px);height: 1px;margin: -1px;overflow: hidden;padding: 0;position: absolute;width: 1px;}#sk-container-id-1 div.sk-estimator {font-family: monospace;background-color: #f0f8ff;border: 1px dotted black;border-radius: 0.25em;box-sizing: border-box;margin-bottom: 0.5em;}#sk-container-id-1 div.sk-estimator:hover {background-color: #d4ebff;}#sk-container-id-1 div.sk-parallel-item::after {content: \"\";width: 100%;border-bottom: 1px solid gray;flex-grow: 1;}#sk-container-id-1 div.sk-label:hover label.sk-toggleable__label {background-color: #d4ebff;}#sk-container-id-1 div.sk-serial::before {content: \"\";position: absolute;border-left: 1px solid gray;box-sizing: border-box;top: 0;bottom: 0;left: 50%;z-index: 0;}#sk-container-id-1 div.sk-serial {display: flex;flex-direction: column;align-items: center;background-color: white;padding-right: 0.2em;padding-left: 0.2em;position: relative;}#sk-container-id-1 div.sk-item {position: relative;z-index: 1;}#sk-container-id-1 div.sk-parallel {display: flex;align-items: stretch;justify-content: center;background-color: white;position: relative;}#sk-container-id-1 div.sk-item::before, #sk-container-id-1 div.sk-parallel-item::before {content: \"\";position: absolute;border-left: 1px solid gray;box-sizing: border-box;top: 0;bottom: 0;left: 50%;z-index: -1;}#sk-container-id-1 div.sk-parallel-item {display: flex;flex-direction: column;z-index: 1;position: relative;background-color: white;}#sk-container-id-1 div.sk-parallel-item:first-child::after {align-self: flex-end;width: 50%;}#sk-container-id-1 div.sk-parallel-item:last-child::after {align-self: flex-start;width: 50%;}#sk-container-id-1 div.sk-parallel-item:only-child::after {width: 0;}#sk-container-id-1 div.sk-dashed-wrapped {border: 1px dashed gray;margin: 0 0.4em 0.5em 0.4em;box-sizing: border-box;padding-bottom: 0.4em;background-color: white;}#sk-container-id-1 div.sk-label label {font-family: monospace;font-weight: bold;display: inline-block;line-height: 1.2em;}#sk-container-id-1 div.sk-label-container {text-align: center;}#sk-container-id-1 div.sk-container {/* jupyter's `normalize.less` sets `[hidden] { display: none; }` but bootstrap.min.css set `[hidden] { display: none !important; }` so we also need the `!important` here to be able to override the default hidden behavior on the sphinx rendered scikit-learn.org. See: https://github.com/scikit-learn/scikit-learn/issues/21755 */display: inline-block !important;position: relative;}#sk-container-id-1 div.sk-text-repr-fallback {display: none;}</style><div id=\"sk-container-id-1\" class=\"sk-top-container\"><div class=\"sk-text-repr-fallback\"><pre>RandomForestClassifier()</pre><b>In a Jupyter environment, please rerun this cell to show the HTML representation or trust the notebook. <br />On GitHub, the HTML representation is unable to render, please try loading this page with nbviewer.org.</b></div><div class=\"sk-container\" hidden><div class=\"sk-item\"><div class=\"sk-estimator sk-toggleable\"><input class=\"sk-toggleable__control sk-hidden--visually\" id=\"sk-estimator-id-1\" type=\"checkbox\" checked><label for=\"sk-estimator-id-1\" class=\"sk-toggleable__label sk-toggleable__label-arrow\">RandomForestClassifier</label><div class=\"sk-toggleable__content\"><pre>RandomForestClassifier()</pre></div></div></div></div></div>"
      ],
      "text/plain": [
       "RandomForestClassifier()"
      ]
     },
     "execution_count": 22,
     "metadata": {},
     "output_type": "execute_result"
    }
   ],
   "source": [
    "rf = RandomForestClassifier()\n",
    "rf.fit(X_train, np.ravel(y_train))"
   ]
  },
  {
   "cell_type": "code",
   "execution_count": 23,
   "id": "19a956aa",
   "metadata": {},
   "outputs": [
    {
     "data": {
      "image/png": "[encoded data removed]",
      "text/plain": [
       "<Figure size 640x480 with 1 Axes>"
      ]
     },
     "metadata": {},
     "output_type": "display_data"
    }
   ],
   "source": [
    "feature_importances = pd.DataFrame({'feature':rf.feature_names_in_, 'value':rf.feature_importances_})\n",
    "feature_importances.sort_values('value', ascending=False, ignore_index=True, inplace=True)\n",
    "sns.barplot(data=feature_importances[:25], y='feature', x='value')\n",
    "plt.show()"
   ]
  },
  {
   "cell_type": "code",
   "execution_count": 24,
   "id": "016e8272",
   "metadata": {},
   "outputs": [],
   "source": [
    "# get predictions\n",
    "y_pred_rf = rf.predict(X_test)"
   ]
  },
  {
   "cell_type": "code",
   "execution_count": 25,
   "id": "e42c3eaf",
   "metadata": {},
   "outputs": [
    {
     "name": "stdout",
     "output_type": "stream",
     "text": [
      "accuracy:  0.9472361809045227 1131/1194\n",
      "precision: 0.9319727891156463\n",
      "recall:    0.7210526315789474\n"
     ]
    }
   ],
   "source": [
    "print('accuracy:  ' + str(accuracy_score(y_test, y_pred_rf)) + ' ' + str(str(accuracy_score(y_test, y_pred_rf, normalize=False))) + '/' + str(str(len(y_test))))\n",
    "print('precision: ' + str(precision_score(y_test, y_pred_rf)))\n",
    "print('recall:    ' + str(recall_score(y_test, y_pred_rf)))"
   ]
  },
  {
   "cell_type": "markdown",
   "id": "bc9d3e1d",
   "metadata": {},
   "source": [
    "### Use logistic regression to score features by coefficient weights"
   ]
  },
  {
   "cell_type": "code",
   "execution_count": 26,
   "id": "26e8b916",
   "metadata": {},
   "outputs": [],
   "source": [
    "from sklearn.linear_model import LogisticRegression\n",
    "from sklearn.preprocessing import StandardScaler"
   ]
  },
  {
   "cell_type": "code",
   "execution_count": 27,
   "id": "1f071907",
   "metadata": {},
   "outputs": [],
   "source": [
    "# standardize X data\n",
    "scaler = StandardScaler().fit(X_train)\n",
    "X_train_scaled = pd.DataFrame(data=scaler.transform(X_train), columns=X_train.columns)\n",
    "X_test_scaled = pd.DataFrame(data=scaler.transform(X_test), columns=X_train.columns)"
   ]
  },
  {
   "cell_type": "code",
   "execution_count": 28,
   "id": "65626df0",
   "metadata": {},
   "outputs": [
    {
     "data": {
      "text/html": [
       "<style>#sk-container-id-2 {color: black;}#sk-container-id-2 pre{padding: 0;}#sk-container-id-2 div.sk-toggleable {background-color: white;}#sk-container-id-2 label.sk-toggleable__label {cursor: pointer;display: block;width: 100%;margin-bottom: 0;padding: 0.3em;box-sizing: border-box;text-align: center;}#sk-container-id-2 label.sk-toggleable__label-arrow:before {content: \"▸\";float: left;margin-right: 0.25em;color: #696969;}#sk-container-id-2 label.sk-toggleable__label-arrow:hover:before {color: black;}#sk-container-id-2 div.sk-estimator:hover label.sk-toggleable__label-arrow:before {color: black;}#sk-container-id-2 div.sk-toggleable__content {max-height: 0;max-width: 0;overflow: hidden;text-align: left;background-color: #f0f8ff;}#sk-container-id-2 div.sk-toggleable__content pre {margin: 0.2em;color: black;border-radius: 0.25em;background-color: #f0f8ff;}#sk-container-id-2 input.sk-toggleable__control:checked~div.sk-toggleable__content {max-height: 200px;max-width: 100%;overflow: auto;}#sk-container-id-2 input.sk-toggleable__control:checked~label.sk-toggleable__label-arrow:before {content: \"▾\";}#sk-container-id-2 div.sk-estimator input.sk-toggleable__control:checked~label.sk-toggleable__label {background-color: #d4ebff;}#sk-container-id-2 div.sk-label input.sk-toggleable__control:checked~label.sk-toggleable__label {background-color: #d4ebff;}#sk-container-id-2 input.sk-hidden--visually {border: 0;clip: rect(1px 1px 1px 1px);clip: rect(1px, 1px, 1px, 1px);height: 1px;margin: -1px;overflow: hidden;padding: 0;position: absolute;width: 1px;}#sk-container-id-2 div.sk-estimator {font-family: monospace;background-color: #f0f8ff;border: 1px dotted black;border-radius: 0.25em;box-sizing: border-box;margin-bottom: 0.5em;}#sk-container-id-2 div.sk-estimator:hover {background-color: #d4ebff;}#sk-container-id-2 div.sk-parallel-item::after {content: \"\";width: 100%;border-bottom: 1px solid gray;flex-grow: 1;}#sk-container-id-2 div.sk-label:hover label.sk-toggleable__label {background-color: #d4ebff;}#sk-container-id-2 div.sk-serial::before {content: \"\";position: absolute;border-left: 1px solid gray;box-sizing: border-box;top: 0;bottom: 0;left: 50%;z-index: 0;}#sk-container-id-2 div.sk-serial {display: flex;flex-direction: column;align-items: center;background-color: white;padding-right: 0.2em;padding-left: 0.2em;position: relative;}#sk-container-id-2 div.sk-item {position: relative;z-index: 1;}#sk-container-id-2 div.sk-parallel {display: flex;align-items: stretch;justify-content: center;background-color: white;position: relative;}#sk-container-id-2 div.sk-item::before, #sk-container-id-2 div.sk-parallel-item::before {content: \"\";position: absolute;border-left: 1px solid gray;box-sizing: border-box;top: 0;bottom: 0;left: 50%;z-index: -1;}#sk-container-id-2 div.sk-parallel-item {display: flex;flex-direction: column;z-index: 1;position: relative;background-color: white;}#sk-container-id-2 div.sk-parallel-item:first-child::after {align-self: flex-end;width: 50%;}#sk-container-id-2 div.sk-parallel-item:last-child::after {align-self: flex-start;width: 50%;}#sk-container-id-2 div.sk-parallel-item:only-child::after {width: 0;}#sk-container-id-2 div.sk-dashed-wrapped {border: 1px dashed gray;margin: 0 0.4em 0.5em 0.4em;box-sizing: border-box;padding-bottom: 0.4em;background-color: white;}#sk-container-id-2 div.sk-label label {font-family: monospace;font-weight: bold;display: inline-block;line-height: 1.2em;}#sk-container-id-2 div.sk-label-container {text-align: center;}#sk-container-id-2 div.sk-container {/* jupyter's `normalize.less` sets `[hidden] { display: none; }` but bootstrap.min.css set `[hidden] { display: none !important; }` so we also need the `!important` here to be able to override the default hidden behavior on the sphinx rendered scikit-learn.org. See: https://github.com/scikit-learn/scikit-learn/issues/21755 */display: inline-block !important;position: relative;}#sk-container-id-2 div.sk-text-repr-fallback {display: none;}</style><div id=\"sk-container-id-2\" class=\"sk-top-container\"><div class=\"sk-text-repr-fallback\"><pre>LogisticRegression()</pre><b>In a Jupyter environment, please rerun this cell to show the HTML representation or trust the notebook. <br />On GitHub, the HTML representation is unable to render, please try loading this page with nbviewer.org.</b></div><div class=\"sk-container\" hidden><div class=\"sk-item\"><div class=\"sk-estimator sk-toggleable\"><input class=\"sk-toggleable__control sk-hidden--visually\" id=\"sk-estimator-id-2\" type=\"checkbox\" checked><label for=\"sk-estimator-id-2\" class=\"sk-toggleable__label sk-toggleable__label-arrow\">LogisticRegression</label><div class=\"sk-toggleable__content\"><pre>LogisticRegression()</pre></div></div></div></div></div>"
      ],
      "text/plain": [
       "LogisticRegression()"
      ]
     },
     "execution_count": 28,
     "metadata": {},
     "output_type": "execute_result"
    }
   ],
   "source": [
    "lr = LogisticRegression()\n",
    "lr.fit(X_train_scaled, np.ravel(y_train))"
   ]
  },
  {
   "cell_type": "code",
   "execution_count": 29,
   "id": "0fb4d974",
   "metadata": {},
   "outputs": [
    {
     "data": {
      "image/png": "[encoded data removed]",
      "text/plain": [
       "<Figure size 640x480 with 1 Axes>"
      ]
     },
     "metadata": {},
     "output_type": "display_data"
    }
   ],
   "source": [
    "feature_coefs = pd.DataFrame({'feature':lr.feature_names_in_, 'value':np.ravel(lr.coef_)})\n",
    "feature_coefs.sort_values('value', ascending=False, ignore_index=True, inplace=True)\n",
    "sns.barplot(data=feature_coefs[:25], y='feature', x='value')\n",
    "plt.show()"
   ]
  },
  {
   "cell_type": "code",
   "execution_count": 30,
   "id": "7f86baad",
   "metadata": {},
   "outputs": [],
   "source": [
    "# get predictions\n",
    "y_pred_lr = lr.predict(X_test_scaled)"
   ]
  },
  {
   "cell_type": "code",
   "execution_count": 31,
   "id": "b68ebaa9",
   "metadata": {},
   "outputs": [
    {
     "name": "stdout",
     "output_type": "stream",
     "text": [
      "accuracy:  0.9639865996649917 1151/1194\n",
      "precision: 0.92\n",
      "recall:    0.8473684210526315\n"
     ]
    }
   ],
   "source": [
    "print('accuracy:  ' + str(accuracy_score(y_test, y_pred_lr)) + ' ' + str(str(accuracy_score(y_test, y_pred_lr, normalize=False))) + '/' + str(str(len(y_test))))\n",
    "print('precision: ' + str(precision_score(y_test, y_pred_lr)))\n",
    "print('recall:    ' + str(recall_score(y_test, y_pred_lr)))"
   ]
  },
  {
   "cell_type": "markdown",
   "id": "e1998ee7",
   "metadata": {},
   "source": [
    "### Conclusion"
   ]
  },
  {
   "cell_type": "markdown",
   "id": "98706169",
   "metadata": {},
   "source": [
    "To identity which factors predict future user adoption the best, I chose to look at the feature importances calculated from a random forest model, fitted with the user data. The model's feature importances are calculated from averaged gini gain at each node in the tree for the different features. The model weighted features created from the user account creation and last session the highest, as they are the strongest indicators of a user being adopted. Specifically, the top few features were:\n",
    "1. last_session_creation_time\n",
    "2. last_session_year\n",
    "3. creation_time\n",
    "4. last_session_month\n",
    "5. creation_month\n",
    "\n",
    "Interestingly, features such as which organization code a user belonged to or whether they opted into a drip campaign do not carry much importance when it comes to determining an adopted user.\n",
    "\n",
    "To verify the feature importances from the model will be useful, I evaluated the model's predictions to find its accuracies. The random forest model was able to predict 72% of the users that should have been labeled adopted as adopted (the recall metric). However, no optimization of the model was investigated.\n",
    "\n",
    "A logistic regression model was also tested to see if the results varied much from the random forest. Although the logistic regression model had better performance (84% recall) than the random forest model, the feature importances from the random forest model were easier to explain than the feature importances of the logistic regression model.\n",
    "\n",
    "I recommend further investigating feature creation to aim for new features that rank as high as the time-valued features as the time that a user logs into the product does not provide much context into why they are returning to the product. The feature I recommend investigating first is:\n",
    "1. Whether a user was recommended by another user or not (I deleted NaN rows in this example and therefore did not investigate this)"
   ]
  },
  {
   "cell_type": "code",
   "execution_count": null,
   "id": "e6f89e11",
   "metadata": {},
   "outputs": [],
   "source": []
  }
 ],
 "metadata": {
  "kernelspec": {
   "display_name": "Python 3 (ipykernel)",
   "language": "python",
   "name": "python3"
  },
  "language_info": {
   "codemirror_mode": {
    "name": "ipython",
    "version": 3
   },
   "file_extension": ".py",
   "mimetype": "text/x-python",
   "name": "python",
   "nbconvert_exporter": "python",
   "pygments_lexer": "ipython3",
   "version": "3.11.3"
  }
 },
 "nbformat": 4,
 "nbformat_minor": 5
}
